{
  "nbformat": 4,
  "nbformat_minor": 0,
  "metadata": {
    "colab": {
      "name": "Pattern_Assignment1.ipynb",
      "provenance": [],
      "collapsed_sections": []
    },
    "kernelspec": {
      "name": "python3",
      "display_name": "Python 3"
    },
    "language_info": {
      "name": "python"
    }
  },
  "cells": [
    {
      "cell_type": "code",
      "source": [
        "# Download the dataset into '/content/data'\n",
        "! wget --no-check-certificate 'https://docs.google.com/uc?export=download&id=1zj8pglnyHh_tNHZF2gRO-OXdt36ylSBM' -O \"att-database-of-faces.zip\"\n",
        "! unzip att-database-of-faces.zip -d /content/data"
      ],
      "metadata": {
        "id": "AoMk9kNppYHA"
      },
      "execution_count": null,
      "outputs": []
    },
    {
      "cell_type": "code",
      "source": [
        "import numpy as np\n",
        "import matplotlib.pyplot as plt\n",
        "import os\n",
        "import cv2\n",
        "from sklearn.neighbors import KNeighborsClassifier\n",
        "from sklearn.preprocessing import StandardScaler\n",
        "from sklearn.metrics import accuracy_score"
      ],
      "metadata": {
        "id": "qnHRCePU6raE"
      },
      "execution_count": null,
      "outputs": []
    },
    {
      "cell_type": "code",
      "source": [
        "X=[]\n",
        "y=[]\n",
        "#get the data set from /content/data/ folder\n",
        "#store images in X Array & Labels in Y Array\n",
        "for i in range(1,41):\n",
        "\timages = os.listdir('/content/data/s'+str(i))\n",
        "\tfor image in images:\n",
        "\n",
        "\t\timg = cv2.imread('/content/data/s'+str(i)+\"/\"+image,0)\n",
        "\t\timg_col = np.array(img).flatten()\n",
        "\t\tsubject = int(i)\n",
        "\t\tX.append(img_col)\n",
        "\t\ty.append(subject)\n",
        "#Put the Images in Matrix in Size 400X10304\n",
        "Matrix=np.reshape(X, (len(X), len(X[0])))\n",
        "\n",
        "print(Matrix[0,:])\n",
        "print(X[0])\n",
        "print(Matrix.shape)"
      ],
      "metadata": {
        "id": "OdwjCw24kDvz"
      },
      "execution_count": null,
      "outputs": []
    },
    {
      "cell_type": "code",
      "source": [
        "#Create 2D Arrays of Train & Test Matrix \n",
        "#Create train & test Label Matrix\n",
        "train_matrix=np.ndarray((len(X)//2, len(X[0])),dtype='int')\n",
        "train_label=np.ndarray((len(X)//2,1),dtype='int')\n",
        "test_matrix=np.ndarray((len(X)//2, len(X[0])),dtype='int')\n",
        "test_label=np.ndarray((len(X)//2,1),dtype='int')\n",
        "#Split the odd data as Training data And even as test data\n",
        "for i in range(0,400):\n",
        "  if(i%2==0):\n",
        "    test_matrix[(i//2):]=Matrix[i]\n",
        "    test_label[(i//2):]=y[i]\n",
        "  else:\n",
        "    train_matrix[(i//2):]=Matrix[i]\n",
        "    train_label[(i//2):]=y[i]\n",
        "\n",
        "\n",
        "print(train_matrix.shape)\n",
        "print(test_matrix.shape)"
      ],
      "metadata": {
        "id": "Q87A7BeqoXXs",
        "colab": {
          "base_uri": "https://localhost:8080/"
        },
        "outputId": "b2697c19-3330-438e-f0b6-b59b9538e105"
      },
      "execution_count": null,
      "outputs": [
        {
          "output_type": "stream",
          "name": "stdout",
          "text": [
            "(200, 10304)\n",
            "(200, 10304)\n"
          ]
        }
      ]
    },
    {
      "cell_type": "code",
      "source": [
        "eigenvalues, eigenvectors = None, None # To avoid recalculating\n",
        "\n",
        "def PCA(D, alpha, init = True):\n",
        "  global eigenvalues, eigenvectors\n",
        "  #This boolean to compute eigenvalues & eigenvectors once only\n",
        "  if init:\n",
        "    mean = np.mean(D, axis = 0) # compute the mean\n",
        "    centered = D - mean         # Centralized Data Matrix \n",
        "    COV = np.cov(centered.T)    # Compute Covariance Matrix\n",
        "    eigenvalues, eigenvectors = np.linalg.eigh(COV)  # Compute eigenvalues & eigenvectors\n",
        "\n",
        "  total_sum, cum_sum, r = np.sum(eigenvalues), 0, 0  # Total Sum of eigenvalues\n",
        "  \n",
        "  #Start from the end eigenvalues array until the condition of \n",
        "  #cum_sum / total_sum >= alpha \n",
        "  for i in range(len(eigenvalues) - 1, -1, -1):\n",
        "    cum_sum += eigenvalues[i]\n",
        "    if(cum_sum / total_sum >= alpha):\n",
        "      r = i\n",
        "      break;\n",
        "\n",
        "  U = eigenvectors[:, r:] # shape = n_attributes x r\n",
        "  return U"
      ],
      "metadata": {
        "id": "0AEv896_wEgJ"
      },
      "execution_count": null,
      "outputs": []
    },
    {
      "cell_type": "code",
      "source": [
        "#Use KNeighborsClassifier \n",
        "knn = KNeighborsClassifier(n_neighbors=1)\n",
        "U = None # U is global just for debugging\n",
        "\n",
        "def pca_accuracy(alpha, train_data, train_label,\n",
        "                 test_data, test_label, init=True):\n",
        "  global U\n",
        "  # PCA dimensionality  reduction\n",
        "  U = PCA(train_data, alpha, init)\n",
        "  train_reduced = train_data @ U\n",
        "  test_reduced = test_data @ U\n",
        "  # Train the model\n",
        "  knn.fit(train_reduced, train_label.ravel())\n",
        "  # Test the model\n",
        "  y_pred = knn.predict(test_reduced)\n",
        "  return accuracy_score(test_label, y_pred)"
      ],
      "metadata": {
        "id": "kpTLjDHq2gzn"
      },
      "execution_count": null,
      "outputs": []
    },
    {
      "cell_type": "code",
      "source": [
        "test_alpha = [0.8, 0.85, 0.9, 0.95]\n",
        "init = True\n",
        "#Compute Accuracy For Every Alpha Value\n",
        "for alpha in test_alpha:\n",
        "  acc = pca_accuracy(alpha, train_matrix,\n",
        "                     train_label, test_matrix, test_label, init)\n",
        "  init = False\n",
        "\n",
        "  print(f\"Alpha = {alpha}\\n\\tShape of U: {U.shape}\\n\\tAccuracy: {acc}\")"
      ],
      "metadata": {
        "id": "OnDcbYMWBWhB",
        "colab": {
          "base_uri": "https://localhost:8080/"
        },
        "outputId": "97c109a7-3a47-4a06-bc84-a10b992d0806"
      },
      "execution_count": null,
      "outputs": [
        {
          "output_type": "stream",
          "name": "stdout",
          "text": [
            "Alpha = 0.8\n",
            "\tShape of U: (10304, 35)\n",
            "\tAccuracy: 0.935\n",
            "Alpha = 0.85\n",
            "\tShape of U: (10304, 51)\n",
            "\tAccuracy: 0.94\n",
            "Alpha = 0.9\n",
            "\tShape of U: (10304, 75)\n",
            "\tAccuracy: 0.935\n",
            "Alpha = 0.95\n",
            "\tShape of U: (10304, 115)\n",
            "\tAccuracy: 0.93\n"
          ]
        }
      ]
    },
    {
      "cell_type": "code",
      "source": [
        "def LinearDiscriminant(D, y):\n",
        "    #[1] Partioning Dataset into class-specific subsets:\n",
        "    print(\"[1] Partitioning  Dataset into class-specific subsets:\")\n",
        "    classes = []\n",
        "    for label in range(1, 41):\n",
        "     classes.append([D[i] for i in range(200) if y[i]==label])\n",
        "    classes = np.array(classes)\n",
        "    #Calculate the mean vector for every class Mu1, Mu2, ..., Mu40\n",
        "    print(\"[2] Computing Mean Vector for each class:\")\n",
        "    mean_vecs = np.zeros((10304, 40))\n",
        "    for i in range(40):\n",
        "     mean_vecs[:, i] = np.mean(classes[i], axis=0)\n",
        "    print(mean_vecs)\n",
        "    #[3] Computing between-class scatter matrix:\n",
        "    print(\"[3] Computing between-class scatter matrix:\")\n",
        "    mean_overall = np.mean(D, axis=0) # 𝜇 is the overall sample mean\n",
        "    d = len(D[0])\n",
        "    S_b = np.zeros((d, d), dtype='float64')\n",
        "\n",
        "    # 𝑆𝑏 = ∑𝑛𝑘(𝜇𝑘 − 𝜇)(𝜇𝑘 − 𝜇)T\n",
        "    for k in range(classes.shape[0]):   # Loop in class-specific subsets\n",
        "     S_b += len(classes[k]) * (mean_vecs[:, k] - mean_overall).dot(np.transpose(mean_vecs[:, k] - mean_overall))\n",
        "\n",
        "    #Centering Dataset:\n",
        "    print(\"[4] Centering Dataset:\")\n",
        "    sc = StandardScaler()\n",
        "    classes_std = []\n",
        "    for i in range(40):\n",
        "     classes_std.append(sc.fit_transform(classes[i]))\n",
        "    \n",
        "    #Computing the within-class scatter matrix:\n",
        "    print(\"[5] Computing the within-class scatter matrix:\")\n",
        "    S_w = np.zeros((d, d), dtype='float64') \n",
        "    for c in range(40):                           # Loop in class-specific subsets\n",
        "      class_scatter = np.zeros((d, d))            # initialize the class-specific scatter matrix.\n",
        "      for i in range(5):                          # For each example in the class,\n",
        "        x = classes_std[c][i].reshape(d, 1)       # get the example,\n",
        "        mc = mean_vecs[:,c].reshape(d, 1)         # get the class mean,\n",
        "        class_scatter += (x - mc).dot((x - mc).T) # compute the class-specific scatter matrix.\n",
        "      S_w += class_scatter\n",
        "\n",
        "    #Use 39 dominant eigenvectors instead of just one. You will have a projection matrix U39x10304\n",
        "    print(\"[6] Solving for the eigenvectors:\")\n",
        "    eigen_vals, eigen_vecs = np.linalg.eigh(np.linalg.pinv(S_w).dot(S_b))\n",
        "    U = eigen_vecs[:, (10304-39):] # shape = n_attributes x r\n",
        "    print(U.shape);\n",
        "    return U;"
      ],
      "metadata": {
        "id": "DZf9GLbigyy0"
      },
      "execution_count": null,
      "outputs": []
    },
    {
      "cell_type": "code",
      "source": [
        "U = LinearDiscriminant(train_matrix, train_label);\n",
        "# Project the training set, and test sets separately using the same \n",
        "#projection matrix U\n",
        "train_reduced = train_matrix @ U\n",
        "test_reduced = test_matrix @ U\n",
        "# Train the model Use a simple classifier\n",
        "classifier=KNeighborsClassifier(n_neighbors=1)\n",
        "classifier.fit(train_reduced, train_label.ravel())\n",
        "# Test the model Use a simple classifier\n",
        "y_pred = classifier.predict(test_reduced)\n",
        "#Report Accuracy for the Multiclass LDA on the face recognition dataset\n",
        "acc = accuracy_score(test_label, y_pred)\n",
        "print(f\"Shape of U: {U.shape}\\nAccuracy: {acc}\")"
      ],
      "metadata": {
        "colab": {
          "base_uri": "https://localhost:8080/"
        },
        "id": "K8z0oovz01gT",
        "outputId": "b7b32a92-cbaf-49fc-edea-178e52c6fa3c"
      },
      "execution_count": null,
      "outputs": [
        {
          "output_type": "stream",
          "name": "stdout",
          "text": [
            "[1] Partitioning  Dataset into class-specific subsets:\n",
            "[2] Computing Mean Vector for each class:\n",
            "[[ 49.6  37.4 102.4 ... 106.8  84.  123.6]\n",
            " [ 52.   35.2 105.2 ... 108.8  86.6 124.2]\n",
            " [ 52.8  36.4 104.6 ... 107.8  84.4 124. ]\n",
            " ...\n",
            " [ 38.6  96.8  47.8 ...  72.  119.4  68. ]\n",
            " [ 40.  100.2  48.2 ...  65.  121.   68.6]\n",
            " [ 38.6  94.8  49.  ...  61.6 121.4  65.6]]\n",
            "[3] Computing between-class scatter matrix:\n",
            "[4] Centering Dataset:\n",
            "[5] Computing the within-class scatter matrix:\n",
            "[6] Solving for the eigenvectors:\n",
            "(10304, 39)\n",
            "Shape of U: (10304, 39)\n",
            "Accuracy: 0.925\n"
          ]
        }
      ]
    },
    {
      "cell_type": "markdown",
      "source": [
        "### Tuning"
      ],
      "metadata": {
        "id": "ARq2A1f0yuqd"
      }
    },
    {
      "cell_type": "code",
      "source": [
        "alpha = 0.9\n",
        "def tune_knn(k_list, dimred, train_data, train_label, test_data, test_label):\n",
        "  acc_list = []\n",
        "  U = None\n",
        "\n",
        "  print(\"Calculating U...\")\n",
        "  if dimred == \"pca\":\n",
        "    U = PCA(train_data, alpha)\n",
        "  else:\n",
        "    U = LinearDiscriminant(train_matrix, train_label)\n",
        "  print(f\"Shape of U: {U.shape}\")\n",
        "\n",
        "  for k in k_list:\n",
        "    print(f\"K = {k}\", end = \"\\t\")\n",
        "    knn = KNeighborsClassifier(n_neighbors=k)\n",
        "    # dimensionality reduction\n",
        "    train_reduced = train_data @ U\n",
        "    test_reduced = test_data @ U\n",
        "    # Train the model\n",
        "    knn.fit(train_reduced, train_label.ravel())\n",
        "    # Test the model\n",
        "    y_pred = knn.predict(test_reduced)\n",
        "    accuracy = accuracy_score(test_label, y_pred)\n",
        "    acc_list.append(accuracy)\n",
        "    print(f\"Accuracy = {accuracy}\")\n",
        "  \n",
        "  return acc_list"
      ],
      "metadata": {
        "id": "XehWB7ehyuHC"
      },
      "execution_count": null,
      "outputs": []
    },
    {
      "cell_type": "code",
      "source": [
        "k_list = [1, 3, 5, 7]\n",
        "acc = tune_knn(k_list, \"pca\", train_matrix, train_label, test_matrix, test_label)\n",
        "plt.plot(k_list, acc)\n",
        "plt.xlabel(\"K\")\n",
        "plt.ylabel(\"Accuracy\")\n",
        "plt.title(\"Accuracy of PCA for different K\")\n",
        "print()\n",
        "plt.show()"
      ],
      "metadata": {
        "id": "1aojK4yPzhNy",
        "colab": {
          "base_uri": "https://localhost:8080/",
          "height": 416
        },
        "outputId": "361d09e4-71bf-4ab0-ed3a-68cc943dd811"
      },
      "execution_count": null,
      "outputs": [
        {
          "output_type": "stream",
          "name": "stdout",
          "text": [
            "Calculating U...\n",
            "Shape of U: (10304, 75)\n",
            "K = 1\tAccuracy = 0.935\n",
            "K = 3\tAccuracy = 0.87\n",
            "K = 5\tAccuracy = 0.78\n",
            "K = 7\tAccuracy = 0.79\n",
            "\n"
          ]
        },
        {
          "output_type": "display_data",
          "data": {
            "text/plain": [
              "<Figure size 432x288 with 1 Axes>"
            ],
            "image/png": "[encoded data removed]"
          },
          "metadata": {
            "needs_background": "light"
          }
        }
      ]
    },
    {
      "cell_type": "code",
      "source": [
        "k_list = [1, 3, 5, 7]\n",
        "acc = tune_knn(k_list, \"lda\", train_matrix, train_label, test_matrix, test_label)\n",
        "plt.plot(k_list, acc)\n",
        "plt.xlabel(\"K\")\n",
        "plt.ylabel(\"Accuracy\")\n",
        "plt.title(\"Accuracy of LDA for different K\")\n",
        "print()\n",
        "plt.show()"
      ],
      "metadata": {
        "id": "Dqx87dwWE61n",
        "colab": {
          "base_uri": "https://localhost:8080/"
        },
        "outputId": "922644ad-e1f4-42a4-a5bc-78634623fc2c"
      },
      "execution_count": null,
      "outputs": [
        {
          "output_type": "stream",
          "name": "stdout",
          "text": [
            "Calculating U...\n",
            "[1] Partitioning  Dataset into class-specific subsets:\n",
            "[2] Computing Mean Vector for each class:\n",
            "[[ 49.6  37.4 102.4 ... 106.8  84.  123.6]\n",
            " [ 52.   35.2 105.2 ... 108.8  86.6 124.2]\n",
            " [ 52.8  36.4 104.6 ... 107.8  84.4 124. ]\n",
            " ...\n",
            " [ 38.6  96.8  47.8 ...  72.  119.4  68. ]\n",
            " [ 40.  100.2  48.2 ...  65.  121.   68.6]\n",
            " [ 38.6  94.8  49.  ...  61.6 121.4  65.6]]\n",
            "[3] Computing between-class scatter matrix:\n",
            "[4] Centering Dataset:\n",
            "[5] Computing the within-class scatter matrix:\n",
            "[6] Solving for the eigenvectors:\n",
            "(10304, 39)\n",
            "Shape of U: (10304, 39)\n",
            "K = 1\tAccuracy = 0.925\n",
            "K = 3\tAccuracy = 0.855\n",
            "K = 5\tAccuracy = 0.785\n",
            "K = 7\tAccuracy = 0.77\n",
            "\n"
          ]
        },
        {
          "output_type": "display_data",
          "data": {
            "text/plain": [
              "<Figure size 432x288 with 1 Axes>"
            ],
            "image/png": "[encoded data removed]"
          },
          "metadata": {
            "needs_background": "light"
          }
        }
      ]
    }
  ]
}